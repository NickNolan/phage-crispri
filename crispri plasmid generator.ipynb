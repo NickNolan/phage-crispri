{
 "cells": [
  {
   "cell_type": "code",
   "execution_count": 26,
   "metadata": {},
   "outputs": [],
   "source": [
    "import Bio\n",
    "import pandas as pd\n",
    "from Bio.Seq import Seq\n",
    "from Bio import SeqIO\n",
    "from Bio.SeqRecord import SeqRecord"
   ]
  },
  {
   "cell_type": "code",
   "execution_count": 27,
   "metadata": {},
   "outputs": [],
   "source": [
    "# I downloaded the spreadsheet you sent me as a csv, renamed it to \"seqs.csv\" for simplicity\n",
    "seqs = pd.read_csv(\"seqs.csv\")\n",
    "for i in range(96):\n",
    "    seq = Seq(seqs['sequence'][i])\n",
    "    seqr = SeqRecord(seq, \\\n",
    "                    id=seqs['plasmid_name'][i], \\\n",
    "                    name=\"\")\n",
    "    outfile = \"out/\" + seqs['plasmid_name'][i] + \".fasta\"\n",
    "    with open(outfile, \"w\") as output_handle:\n",
    "        SeqIO.write(seqr, output_handle, \"fasta\")"
   ]
  }
 ],
 "metadata": {
  "kernelspec": {
   "display_name": "Python 3",
   "language": "python",
   "name": "python3"
  },
  "language_info": {
   "codemirror_mode": {
    "name": "ipython",
    "version": 3
   },
   "file_extension": ".py",
   "mimetype": "text/x-python",
   "name": "python",
   "nbconvert_exporter": "python",
   "pygments_lexer": "ipython3",
   "version": "3.8.3"
  }
 },
 "nbformat": 4,
 "nbformat_minor": 4
}
