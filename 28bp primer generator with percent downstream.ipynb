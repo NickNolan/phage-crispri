{
 "cells": [
  {
   "cell_type": "code",
   "execution_count": 2,
   "metadata": {},
   "outputs": [],
   "source": [
    "import Bio\n",
    "from Bio import SeqIO\n",
    "from Bio.Seq import Seq\n",
    "import csv\n",
    "\n",
    "# input ncbi accession number for the genome of interest\n",
    "id = 'NC_001416.1'\n",
    "\n",
    "# input paths to gff and fasta files for the genome of interest\n",
    "path_to_gff = 'gff/'\n",
    "path_to_fasta = 'fasta/'"
   ]
  },
  {
   "cell_type": "code",
   "execution_count": 3,
   "metadata": {},
   "outputs": [],
   "source": [
    "# helper for get_genes\n",
    "def get_product(str, to_find):\n",
    "    pos1 = str.find(to_find)\n",
    "    pos2 = str.find(';', pos1, len(str))\n",
    "    return str[pos1 + len(to_find):pos2]\n",
    "\n",
    "# opens gff3 file, uses it to access every gene's id, start position, end position, name, and strand (in that order)\n",
    "def get_genes(path_id):\n",
    "    f = open(path_id + '.gff3', 'r')\n",
    "    genes = []\n",
    "    for line in f.readlines():\n",
    "        l = line.split('\\t')\n",
    "        if len(l) > 4 and l[2] == 'gene':\n",
    "            genes.append((get_product(l[8], 'ID=gene-'), int(l[3]), int(l[4]), get_product(l[8], 'Name='), l[6]))\n",
    "        elif len(l) > 4 and id == 'EF056009.1' and l[2] == 'CDS':\n",
    "            genes.append((get_product(l[8], 'product='), int(l[3]), int(l[4]), get_product(l[8], 'Name='), l[6]))\n",
    "    return genes\n",
    "\n",
    "# opens fasta file, accesses seqs of all of the genes + strand directions\n",
    "def get_seqs(s1e2, path_id):\n",
    "    seq = SeqIO.read(path_id + '.fasta', 'fasta')\n",
    "    gene = []\n",
    "    for i in range(len(s1e2)):\n",
    "        if s1e2[i][4] == \"-\":\n",
    "#            print('negative')\n",
    "            gene.append(str((seq.seq[s1e2[i][1] : s1e2[i][2]]).reverse_complement()))\n",
    "        elif s1e2[i][4] == \"+\":\n",
    "            gene.append(str(seq.seq[s1e2[i][1] : s1e2[i][2]]))\n",
    "#            print('positive')\n",
    "        else:\n",
    "            print('strand direction not identifiable:')\n",
    "            print(s1e2[i][4])\n",
    "    return gene\n",
    "\n",
    "# used to determine whether the TTTV site is viable\n",
    "# current requirements: \n",
    "def passes_tests(a_str, start):\n",
    "    if start >= len(a_str) - 28:\n",
    "        return False\n",
    "    t = extract_primer(a_str, start)\n",
    "    if 'GAAGAC' in t or 'GTCTTC' in t:\n",
    "        return False\n",
    "    return True\n",
    "\n",
    "# for a given gene sequence, find as many entries of sites_to_look_for\n",
    "# as possible, and compile them into a list of potential primer sites\n",
    "def find_primer_candidates(gene_seq, sites_to_look_for):\n",
    "    start = 0\n",
    "    while True:\n",
    "        min_start = 999999999\n",
    "        min_idx = -1\n",
    "        for i in range(len(sites_to_look_for)):\n",
    "            possible_start = gene_seq.find(sites_to_look_for[i], start)\n",
    "            if possible_start > -1:\n",
    "                min_start = min(possible_start, min_start)\n",
    "                min_idx = i\n",
    "        if min_start == 999999999: return\n",
    "        start = min_start\n",
    "        if passes_tests(gene_seq, start):\n",
    "            yield start\n",
    "        start += (len(sites_to_look_for[min_idx]) + 28)\n",
    "        \n",
    "# given the gene sequence, extract the 28bp primer immediately\n",
    "# downstream of the identified primer location\n",
    "def extract_primer(seq, tttv_loc):\n",
    "    return seq[tttv_loc+4:tttv_loc+32]\n",
    "\n",
    "# given a set of candidate primer locations (cand), the length of the \n",
    "# corresponding gene (length), and two ideal %downstreams of the gene \n",
    "# in question (loc1 and loc2), find the two primer candidates that \n",
    "# are closest to loc1 and loc2 in terms of how far downstream in the gene\n",
    "# they are\n",
    "def get_indices(cand, loc1, loc2, length):\n",
    "    int1 = int(loc1 * length)\n",
    "    int2 = int(loc2 * length)\n",
    "    \n",
    "    i = 0\n",
    "    not_found = True\n",
    "    while not_found:\n",
    "        for candidate in cand:\n",
    "            if candidate in range(int1 - i, int1 + i):\n",
    "                sol1 = candidate\n",
    "                not_found = False\n",
    "        i += 1\n",
    "        \n",
    "    not_found = True\n",
    "    i = 0\n",
    "    while not_found:\n",
    "        for candidate in cand:\n",
    "            if candidate in range(int2 - i, int2 + i) and candidate is not sol1:\n",
    "                sol2 = candidate\n",
    "                not_found = False\n",
    "        i += 1\n",
    "    \n",
    "    return [sol1, sol2]\n",
    "    "
   ]
  },
  {
   "cell_type": "code",
   "execution_count": 5,
   "metadata": {},
   "outputs": [],
   "source": [
    "gene_name_start_end_locs = get_genes(path_to_gff + id)\n",
    "genes = get_seqs(gene_name_start_end_locs, path_to_fasta + id)"
   ]
  },
  {
   "cell_type": "code",
   "execution_count": 6,
   "metadata": {},
   "outputs": [
    {
     "name": "stdout",
     "output_type": "stream",
     "text": [
      "[31, 117, 343, 416]\n",
      "545\n"
     ]
    }
   ],
   "source": [
    "# this is more of a sanity check than anything -- not super important in and of itself\n",
    "t = list(find_primer_candidates(genes[0], [\"TTTC\", \"TTTG\", \"TTTA\"]))\n",
    "print(t)\n",
    "print(len(genes[0]))"
   ]
  },
  {
   "cell_type": "code",
   "execution_count": 22,
   "metadata": {},
   "outputs": [
    {
     "name": "stdout",
     "output_type": "stream",
     "text": [
      "[4, 16, 1, 18, 6, 2, 2, 5, 1, 4, 4, 5, 5, 5, 5, 14, 3, 7, 5, 6, 23, 187, 186, 186, 185, 4, 3, 11, 9, 4, 18, 0, 14, 25, 71, 14, 10, 1, 0, 1, 2, 1, 2, 2, 40, 7, 6, 4, 23, 22, 1, 1, 18, 13, 1, 6, 7, 38, 31, 7, 7, 14, 8, 16, 3, 2, 2, 1, 0, 1, 5, 5, 2, 4, 9, 0, 0, 1, 2, 0, 6, 3, 0, 1, 3, 3, 3, 1, 0, 4, 7, 1]\n"
     ]
    }
   ],
   "source": [
    "# calculate the primer candidates for each set, as well as how many there are for each gene in question\n",
    "primer_candidates = []\n",
    "for i in range(len(genes)):\n",
    "    primer_candidates.append(list(find_primer_candidates(genes[i],[\"TTTC\", \"TTTG\", \"TTTA\"])))\n",
    "count = [len(primer_start_pos_list) for primer_start_pos_list in primer_candidates]\n",
    "print(count)"
   ]
  },
  {
   "cell_type": "code",
   "execution_count": 28,
   "metadata": {},
   "outputs": [
    {
     "name": "stdout",
     "output_type": "stream",
     "text": [
      "gene 31, lambdap30, had no possible primer candidate sequences.\n",
      "gene 38, lambdap35, had no possible primer candidate sequences.\n",
      "gene 68, lambdap59, had no possible primer candidate sequences.\n",
      "gene 75, lambdap65, had no possible primer candidate sequences.\n",
      "gene 76, lambdap66, had no possible primer candidate sequences.\n",
      "gene 79, lambdap69, had no possible primer candidate sequences.\n",
      "gene 82, lambdap72, had no possible primer candidate sequences.\n",
      "gene 88, lambdap91, had no possible primer candidate sequences.\n"
     ]
    }
   ],
   "source": [
    "# for each gene, first determine how many primer candidates there are.\n",
    "# if 0: indicate to the user that this gene has no primer candidates. Can't do much else here.\n",
    "# if 1: create a fwd and rev primer out of that primer candidate (called <gene name>_1_FWD and <gene name>_1_REV)\n",
    "#       and add it to the list of primers\n",
    "# if 2: find the best two candidates with get_indices(); create fwd and rev primers out of these two candidates\n",
    "primers = []\n",
    "for i in range(len(genes)):\n",
    "    if count[i] > 1:\n",
    "        indices = get_indices(primer_candidates[i], 0.2, 0.5, len(genes[i]))\n",
    "        prime1 = Seq(extract_primer(genes[i],indices[0]))\n",
    "        primer1_fwd = 'AGAT' + str(prime1).lower() + 'G'\n",
    "        primer1_rev = 'GAAAC' + str(prime1.reverse_complement()).lower()\n",
    "        prime2 = Seq(extract_primer(genes[i],indices[1]))\n",
    "        primer2_fwd = 'AGAT' + str(prime2).lower() + 'G'\n",
    "        primer2_rev = 'GAAAC' + str(prime2.reverse_complement()).lower()\n",
    "        primers.append([gene_name_start_end_locs[i][0] + '_1_FWD', primer1_fwd, gene_name_start_end_locs[i][0] + '_1_REV', primer1_rev, round(indices[0] / len(genes[i]), 2)])\n",
    "        primers.append([gene_name_start_end_locs[i][0] + '_2_FWD', primer2_fwd, gene_name_start_end_locs[i][0] + '_2_REV', primer2_rev, round(indices[1] / len(genes[i]), 2)])\n",
    "    elif count[i] == 1:\n",
    "        prime1 = Seq(extract_primer(genes[i],primer_candidates[i][0]))\n",
    "        primer1_fwd = 'AGAT' + str(prime1).lower() + 'G'\n",
    "        primer1_rev = 'GAAAC' + str(prime1.reverse_complement()).lower()\n",
    "        primers.append([gene_name_start_end_locs[i][0] + '_1_FWD', primer1_fwd,gene_name_start_end_locs[i][0] + '_1_REV', primer1_rev, round(primer_candidates[i][0] / len(genes[i]),2)])\n",
    "    else:\n",
    "        print('gene ' + str(i) + ', ' + gene_name_start_end_locs[i][0] + ', had no possible primer candidate sequences.')\n",
    "        primers.append([])"
   ]
  },
  {
   "cell_type": "code",
   "execution_count": 29,
   "metadata": {},
   "outputs": [],
   "source": [
    "with open(id + '_primers' + '.csv','w') as result_file:\n",
    "    wr = csv.writer(result_file, dialect='excel')\n",
    "    wr.writerows(primers)"
   ]
  },
  {
   "cell_type": "code",
   "execution_count": 27,
   "metadata": {},
   "outputs": [
    {
     "data": {
      "text/plain": [
       "0.102"
      ]
     },
     "execution_count": 27,
     "metadata": {},
     "output_type": "execute_result"
    }
   ],
   "source": [
    "round(0.102147120938,3)"
   ]
  }
 ],
 "metadata": {
  "kernelspec": {
   "display_name": "Python 3",
   "language": "python",
   "name": "python3"
  },
  "language_info": {
   "codemirror_mode": {
    "name": "ipython",
    "version": 3
   },
   "file_extension": ".py",
   "mimetype": "text/x-python",
   "name": "python",
   "nbconvert_exporter": "python",
   "pygments_lexer": "ipython3",
   "version": "3.8.3"
  }
 },
 "nbformat": 4,
 "nbformat_minor": 2
}
